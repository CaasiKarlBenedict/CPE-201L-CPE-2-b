{
  "nbformat": 4,
  "nbformat_minor": 0,
  "metadata": {
    "colab": {
      "provenance": [],
      "authorship_tag": "ABX9TyMhYqsp9q3YizZQSNIlpIYQ",
      "include_colab_link": true
    },
    "kernelspec": {
      "name": "python3",
      "display_name": "Python 3"
    },
    "language_info": {
      "name": "python"
    }
  },
  "cells": [
    {
      "cell_type": "markdown",
      "metadata": {
        "id": "view-in-github",
        "colab_type": "text"
      },
      "source": [
        "<a href=\"https://colab.research.google.com/github/CaasiKarlBenedict/CPE-201L-CPE-2-b/blob/main/SKILL_TEST.ipynb\" target=\"_parent\"><img src=\"https://colab.research.google.com/assets/colab-badge.svg\" alt=\"Open In Colab\"/></a>"
      ]
    },
    {
      "cell_type": "code",
      "execution_count": 42,
      "metadata": {
        "colab": {
          "base_uri": "https://localhost:8080/"
        },
        "id": "-PS14IsF7eG1",
        "outputId": "557cf215-c1a3-40d6-9120-e16f7468814e"
      },
      "outputs": [
        {
          "output_type": "stream",
          "name": "stdout",
          "text": [
            "Name with underscores: Karl_ Benedict_ Dantes_ Caasi_\n",
            "\n",
            "Traversing characters in the array:\n",
            "Index 0: K\n",
            "Index 1: a\n",
            "Index 2: r\n",
            "Index 3: l\n",
            "Index 4: _\n",
            "Index 5:  \n",
            "Index 6: B\n",
            "Index 7: e\n",
            "Index 8: n\n",
            "Index 9: e\n",
            "Index 10: d\n",
            "Index 11: i\n",
            "Index 12: c\n",
            "Index 13: t\n",
            "Index 14: _\n",
            "Index 15:  \n",
            "Index 16: D\n",
            "Index 17: a\n",
            "Index 18: n\n",
            "Index 19: t\n",
            "Index 20: e\n",
            "Index 21: s\n",
            "Index 22: _\n",
            "Index 23:  \n",
            "Index 24: C\n",
            "Index 25: a\n",
            "Index 26: a\n",
            "Index 27: s\n",
            "Index 28: i\n",
            "Index 29: _\n"
          ]
        }
      ],
      "source": [
        "\n",
        "full_name = \"Karl Benedict Dantes Caasi\"\n",
        "\n",
        "\n",
        "words = name.split()\n",
        "name_with_underscores = \" \".join(word + \"_\" for word in words)\n",
        "\n",
        "\n",
        "name_array = list(name_with_underscores)\n",
        "\n",
        "\n",
        "print(\"Name with underscores:\", name_with_underscores)\n",
        "\n",
        "\n",
        "print(\"\\nTraversing characters in the array:\")\n",
        "for i, ch in enumerate(name_array):\n",
        "    print(f\"Index {i}: {ch}\")"
      ]
    },
    {
      "cell_type": "code",
      "source": [],
      "metadata": {
        "id": "W7kfAjRs8Ggv"
      },
      "execution_count": null,
      "outputs": []
    }
  ]
}