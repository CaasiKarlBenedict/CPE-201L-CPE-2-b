{
  "nbformat": 4,
  "nbformat_minor": 0,
  "metadata": {
    "colab": {
      "provenance": [],
      "authorship_tag": "ABX9TyOTwuavqToofqBv/Im8svkj",
      "include_colab_link": true
    },
    "kernelspec": {
      "name": "python3",
      "display_name": "Python 3"
    },
    "language_info": {
      "name": "python"
    }
  },
  "cells": [
    {
      "cell_type": "markdown",
      "metadata": {
        "id": "view-in-github",
        "colab_type": "text"
      },
      "source": [
        "<a href=\"https://colab.research.google.com/github/CaasiKarlBenedict/CPE-201L-CPE-2-b/blob/main/LAB_8.ipynb\" target=\"_parent\"><img src=\"https://colab.research.google.com/assets/colab-badge.svg\" alt=\"Open In Colab\"/></a>"
      ]
    },
    {
      "cell_type": "code",
      "execution_count": 4,
      "metadata": {
        "colab": {
          "base_uri": "https://localhost:8080/"
        },
        "id": "ZLyn3HH2Le3N",
        "outputId": "21edbe09-1bef-4830-81e9-a3305629b328"
      },
      "outputs": [
        {
          "output_type": "stream",
          "name": "stdout",
          "text": [
            "Pushed Element: 1\n",
            "Pushed Element: 2\n",
            "Pushed Element: 3\n",
            "Pushed Element: 4\n",
            "Pushed Element: 5\n",
            "The elements in the stack are: ['1', '2', '3', '4', '5']\n"
          ]
        }
      ],
      "source": [
        "\n",
        "def create_stack():\n",
        "    stack = []\n",
        "    return stack\n",
        "\n",
        "\n",
        "def is_empty(stack):\n",
        "    return len(stack) == 0\n",
        "\n",
        "\n",
        "def push(stack, item):\n",
        "    stack.append(item)\n",
        "    print(\"Pushed Element:\", item)\n",
        "\n",
        "\n",
        "def pop(stack):\n",
        "    if is_empty(stack):\n",
        "        return \"The stack is empty\"\n",
        "    return stack.pop()\n",
        "\n",
        "\n",
        "\n",
        "\n",
        "stack = create_stack()\n",
        "\n",
        "\n",
        "push(stack, \"1\")\n",
        "push(stack, \"2\")\n",
        "push(stack, \"3\")\n",
        "push(stack, \"4\")\n",
        "push(stack, \"5\")\n",
        "\n",
        "print(\"The elements in the stack are:\", stack)\n"
      ]
    },
    {
      "cell_type": "code",
      "source": [
        "pop(stack)\n",
        "pop(stack)\n",
        "pop(stack)"
      ],
      "metadata": {
        "colab": {
          "base_uri": "https://localhost:8080/",
          "height": 36
        },
        "id": "oeylCuwkMvv-",
        "outputId": "c601c957-1925-4590-b815-50b292abf142"
      },
      "execution_count": 5,
      "outputs": [
        {
          "output_type": "execute_result",
          "data": {
            "text/plain": [
              "'3'"
            ],
            "application/vnd.google.colaboratory.intrinsic+json": {
              "type": "string"
            }
          },
          "metadata": {},
          "execution_count": 5
        }
      ]
    },
    {
      "cell_type": "code",
      "source": [
        "print(\"The size of the stack is:\", size(stack))"
      ],
      "metadata": {
        "colab": {
          "base_uri": "https://localhost:8080/"
        },
        "id": "RVZEAMXeMxwF",
        "outputId": "d7cb49e2-6592-4329-af91-b1daa99133b4"
      },
      "execution_count": 8,
      "outputs": [
        {
          "output_type": "stream",
          "name": "stdout",
          "text": [
            "The size of the stack is: 2\n"
          ]
        }
      ]
    }
  ]
}