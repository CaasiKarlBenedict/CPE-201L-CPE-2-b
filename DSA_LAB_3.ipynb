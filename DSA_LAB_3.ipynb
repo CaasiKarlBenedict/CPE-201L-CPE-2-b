{
  "nbformat": 4,
  "nbformat_minor": 0,
  "metadata": {
    "colab": {
      "provenance": [],
      "authorship_tag": "ABX9TyMrI/TldIQGp19Vp+ydgz/D",
      "include_colab_link": true
    },
    "kernelspec": {
      "name": "python3",
      "display_name": "Python 3"
    },
    "language_info": {
      "name": "python"
    }
  },
  "cells": [
    {
      "cell_type": "markdown",
      "metadata": {
        "id": "view-in-github",
        "colab_type": "text"
      },
      "source": [
        "<a href=\"https://colab.research.google.com/github/CaasiKarlBenedict/CPE-201L-CPE-2-b/blob/main/DSA_LAB_3.ipynb\" target=\"_parent\"><img src=\"https://colab.research.google.com/assets/colab-badge.svg\" alt=\"Open In Colab\"/></a>"
      ]
    },
    {
      "cell_type": "code",
      "execution_count": 1,
      "metadata": {
        "colab": {
          "base_uri": "https://localhost:8080/"
        },
        "id": "bLj7TfqQrN9X",
        "outputId": "92220e3a-bbe0-4c7b-bbce-b0bf91d75987"
      },
      "outputs": [
        {
          "output_type": "stream",
          "name": "stdout",
          "text": [
            "Total number of odd scores: 4\n"
          ]
        }
      ],
      "source": [
        "count_of_odds = 0\n",
        "scores = [12, 7, 5, 20, 33, 18, 9]\n",
        "for score in scores:\n",
        "\n",
        "    if score % 2 != 0:\n",
        "\n",
        "        count_of_odds += 1\n",
        "\n",
        "print(\"Total number of odd scores:\", count_of_odds)\n"
      ]
    }
  ]
}