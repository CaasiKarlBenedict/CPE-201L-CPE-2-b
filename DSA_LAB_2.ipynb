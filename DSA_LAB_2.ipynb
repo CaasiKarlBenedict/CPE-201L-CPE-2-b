{
  "nbformat": 4,
  "nbformat_minor": 0,
  "metadata": {
    "colab": {
      "provenance": [],
      "authorship_tag": "ABX9TyPA1n9ZwXSBbZDLGyO5r2Nu",
      "include_colab_link": true
    },
    "kernelspec": {
      "name": "python3",
      "display_name": "Python 3"
    },
    "language_info": {
      "name": "python"
    }
  },
  "cells": [
    {
      "cell_type": "markdown",
      "metadata": {
        "id": "view-in-github",
        "colab_type": "text"
      },
      "source": [
        "<a href=\"https://colab.research.google.com/github/CaasiKarlBenedict/CPE-201L-CPE-2-b/blob/main/DSA_LAB_2.ipynb\" target=\"_parent\"><img src=\"https://colab.research.google.com/assets/colab-badge.svg\" alt=\"Open In Colab\"/></a>"
      ]
    },
    {
      "cell_type": "code",
      "execution_count": 4,
      "metadata": {
        "colab": {
          "base_uri": "https://localhost:8080/"
        },
        "id": "VlwAblanY6bx",
        "outputId": "b262ef92-d9be-4b7c-fc1c-e733508d7c19"
      },
      "outputs": [
        {
          "output_type": "stream",
          "name": "stdout",
          "text": [
            "Sum: 150\n",
            "Average: 30.0\n"
          ]
        }
      ],
      "source": [
        "def calculate_sum_avg(numbers):\n",
        "    total = sum(numbers)\n",
        "    average = total / len(numbers)\n",
        "    return total, average\n",
        "\n",
        "# Example usage:\n",
        "nums = [10, 20, 30, 40, 50]\n",
        "\n",
        "# Call the function\n",
        "total, avg = calculate_sum_avg(nums)\n",
        "\n",
        "# Display results\n",
        "print(\"Sum:\", total)\n",
        "print(\"Average:\", avg)"
      ]
    },
    {
      "cell_type": "markdown",
      "source": [],
      "metadata": {
        "id": "TNm_95K-Y98I"
      }
    }
  ]
}