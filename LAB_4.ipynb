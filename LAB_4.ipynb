{
  "nbformat": 4,
  "nbformat_minor": 0,
  "metadata": {
    "colab": {
      "provenance": [],
      "authorship_tag": "ABX9TyMUGWbRE2HKNUc9LmdAU3d7",
      "include_colab_link": true
    },
    "kernelspec": {
      "name": "python3",
      "display_name": "Python 3"
    },
    "language_info": {
      "name": "python"
    }
  },
  "cells": [
    {
      "cell_type": "markdown",
      "metadata": {
        "id": "view-in-github",
        "colab_type": "text"
      },
      "source": [
        "<a href=\"https://colab.research.google.com/github/CaasiKarlBenedict/CPE-201L-CPE-2-b/blob/main/LAB_4.ipynb\" target=\"_parent\"><img src=\"https://colab.research.google.com/assets/colab-badge.svg\" alt=\"Open In Colab\"/></a>"
      ]
    },
    {
      "cell_type": "code",
      "execution_count": 5,
      "metadata": {
        "colab": {
          "base_uri": "https://localhost:8080/"
        },
        "id": "Cl3NiY1cjs2V",
        "outputId": "2f736b23-4973-4e73-c7d4-6740d8be2834"
      },
      "outputs": [
        {
          "output_type": "stream",
          "name": "stdout",
          "text": [
            "Constructed Apple\n",
            "Apple: PHP 10 x 5 = PHP 50\n",
            "Shallow copy Apple\n",
            "Constructed Apple\n",
            "Apple: PHP 10 x 5 = PHP 50\n",
            "Deep copy Apple\n",
            "Constructed Apple\n",
            "Apple: PHP 10 x 5 = PHP 50\n"
          ]
        }
      ],
      "source": [
        "import copy\n",
        "\n",
        "class Item:\n",
        "    def __init__(self, name, price, qty):\n",
        "        self.name, self.price, self.qty = name, price, qty\n",
        "        print(f\"Constructed {self.name}\")\n",
        "\n",
        "    def __del__(self):\n",
        "        print(f\"Destructed {self.name}\")\n",
        "\n",
        "    def __copy__(self):\n",
        "        print(f\"Shallow copy {self.name}\")\n",
        "        return type(self)(self.name, self.price, self.qty)\n",
        "\n",
        "    def __deepcopy__(self, memo):\n",
        "        print(f\"Deep copy {self.name}\")\n",
        "        return type(self)(self.name, self.price, self.qty)\n",
        "\n",
        "    def display(self):\n",
        "        print(f\"{self.name}: PHP {self.price} x {self.qty} = PHP {self.price * self.qty}\")\n",
        "\n",
        "class Fruit(Item): pass\n",
        "class Vegetable(Item): pass\n",
        "\n",
        "if __name__ == \"__main__\":\n",
        "    f = Fruit(\"Apple\", 10, 5)\n",
        "    f.display()\n",
        "    c = copy.copy(f)\n",
        "    c.display()\n",
        "    d = copy.deepcopy(f)\n",
        "    d.display()"
      ]
    },
    {
      "cell_type": "code",
      "source": [
        "GroceryList = [\n",
        "    Fruit(\"Apple\", 10, 7),\n",
        "    Fruit(\"Banana\", 10, 8),\n",
        "    Vegetable(\"Broccoli\", 60, 12),\n",
        "    Vegetable(\"Lettuce\", 50, 10)\n",
        "]\n",
        "\n",
        "print(\"\\n--- Jenna List Details ---\")\n",
        "for item in GroceryList:\n",
        "    item.display()"
      ],
      "metadata": {
        "colab": {
          "base_uri": "https://localhost:8080/"
        },
        "id": "mxyIb5mTlCuJ",
        "outputId": "1c05a1e1-7cc3-403a-f0bf-6494b4cdf72b"
      },
      "execution_count": 7,
      "outputs": [
        {
          "output_type": "stream",
          "name": "stdout",
          "text": [
            "Constructed Apple\n",
            "Constructed Banana\n",
            "Constructed Broccoli\n",
            "Constructed Lettuce\n",
            "\n",
            "--- Jenna List Details ---\n",
            "Apple: PHP 10 x 7 = PHP 70\n",
            "Banana: PHP 10 x 8 = PHP 80\n",
            "Broccoli: PHP 60 x 12 = PHP 720\n",
            "Lettuce: PHP 50 x 10 = PHP 500\n"
          ]
        }
      ]
    },
    {
      "cell_type": "code",
      "source": [
        "class Item:\n",
        "    def __init__(self, name, price, qty):\n",
        "        self.name, self.price, self.qty = name, price, qty\n",
        "    def calculate_sum(self):\n",
        "        return self.price * self.qty\n",
        "    def display(self):\n",
        "        print(f\"{self.name}: PHP {self.price} x {self.qty} = PHP {self.calculate_sum()}\")\n",
        "\n",
        "class Fruit(Item): pass\n",
        "class Vegetable(Item): pass\n",
        "\n",
        "grocery = [\n",
        "    Fruit(\"Apple\", 10, 7),\n",
        "    Fruit(\"Banana\", 10, 8),\n",
        "    Vegetable(\"Broccoli\", 60, 12),\n",
        "    Vegetable(\"Lettuce\", 50, 10)\n",
        "]\n",
        "\n",
        "for item in grocery:\n",
        "    item.display()\n",
        "\n",
        "def total_sum(items):\n",
        "    return sum(i.calculate_sum() for i in items)\n",
        "\n",
        "print(f\"\\nTotal Sum: PHP {total_sum(grocery)}\")"
      ],
      "metadata": {
        "colab": {
          "base_uri": "https://localhost:8080/"
        },
        "id": "AwRe9SE9lRJw",
        "outputId": "a1ef314c-e3fb-4203-dc76-e0592d8d2cee"
      },
      "execution_count": 8,
      "outputs": [
        {
          "output_type": "stream",
          "name": "stdout",
          "text": [
            "Apple: PHP 10 x 7 = PHP 70\n",
            "Banana: PHP 10 x 8 = PHP 80\n",
            "Broccoli: PHP 60 x 12 = PHP 720\n",
            "Lettuce: PHP 50 x 10 = PHP 500\n",
            "\n",
            "Total Sum: PHP 1370\n"
          ]
        }
      ]
    },
    {
      "cell_type": "code",
      "source": [
        "print(\"\\n--- Deleting Lettuce ---\")\n",
        "GroceryList = [item for item in GroceryList if item.name != \"Lettuce\"]\n",
        "import gc\n",
        "gc.collect()\n",
        "print(\"\\n--- Updated Grocery List ---\")\n",
        "for item in GroceryList:\n",
        "    item.display()\n",
        "\n",
        "print(f\"\\nUpdated Total Sum: PHP {total_sum(GroceryList)}\")"
      ],
      "metadata": {
        "colab": {
          "base_uri": "https://localhost:8080/",
          "height": 443
        },
        "id": "1hA6ev4ilcmY",
        "outputId": "dce64cf1-ea1b-4a7e-b173-a0ffc6018d7d"
      },
      "execution_count": 24,
      "outputs": [
        {
          "output_type": "stream",
          "name": "stdout",
          "text": [
            "\n",
            "--- Deleting Lettuce ---\n",
            "\n",
            "--- Updated Grocery List ---\n",
            "Apple: PHP 10 x 7 = PHP 70\n",
            "Banana: PHP 10 x 8 = PHP 80\n",
            "Broccoli: PHP 60 x 12 = PHP 720\n"
          ]
        },
        {
          "output_type": "error",
          "ename": "AttributeError",
          "evalue": "'Fruit' object has no attribute 'calculate_sum'",
          "traceback": [
            "\u001b[0;31m---------------------------------------------------------------------------\u001b[0m",
            "\u001b[0;31mAttributeError\u001b[0m                            Traceback (most recent call last)",
            "\u001b[0;32m/tmp/ipython-input-2661005400.py\u001b[0m in \u001b[0;36m<cell line: 0>\u001b[0;34m()\u001b[0m\n\u001b[1;32m      7\u001b[0m     \u001b[0mitem\u001b[0m\u001b[0;34m.\u001b[0m\u001b[0mdisplay\u001b[0m\u001b[0;34m(\u001b[0m\u001b[0;34m)\u001b[0m\u001b[0;34m\u001b[0m\u001b[0;34m\u001b[0m\u001b[0m\n\u001b[1;32m      8\u001b[0m \u001b[0;34m\u001b[0m\u001b[0m\n\u001b[0;32m----> 9\u001b[0;31m \u001b[0mprint\u001b[0m\u001b[0;34m(\u001b[0m\u001b[0;34mf\"\\nUpdated Total Sum: PHP {total_sum(GroceryList)}\"\u001b[0m\u001b[0;34m)\u001b[0m\u001b[0;34m\u001b[0m\u001b[0;34m\u001b[0m\u001b[0m\n\u001b[0m",
            "\u001b[0;32m/tmp/ipython-input-2696365853.py\u001b[0m in \u001b[0;36mtotal_sum\u001b[0;34m(items)\u001b[0m\n\u001b[1;32m     21\u001b[0m \u001b[0;34m\u001b[0m\u001b[0m\n\u001b[1;32m     22\u001b[0m \u001b[0;32mdef\u001b[0m \u001b[0mtotal_sum\u001b[0m\u001b[0;34m(\u001b[0m\u001b[0mitems\u001b[0m\u001b[0;34m)\u001b[0m\u001b[0;34m:\u001b[0m\u001b[0;34m\u001b[0m\u001b[0;34m\u001b[0m\u001b[0m\n\u001b[0;32m---> 23\u001b[0;31m     \u001b[0;32mreturn\u001b[0m \u001b[0msum\u001b[0m\u001b[0;34m(\u001b[0m\u001b[0mi\u001b[0m\u001b[0;34m.\u001b[0m\u001b[0mcalculate_sum\u001b[0m\u001b[0;34m(\u001b[0m\u001b[0;34m)\u001b[0m \u001b[0;32mfor\u001b[0m \u001b[0mi\u001b[0m \u001b[0;32min\u001b[0m \u001b[0mitems\u001b[0m\u001b[0;34m)\u001b[0m\u001b[0;34m\u001b[0m\u001b[0;34m\u001b[0m\u001b[0m\n\u001b[0m\u001b[1;32m     24\u001b[0m \u001b[0;34m\u001b[0m\u001b[0m\n\u001b[1;32m     25\u001b[0m \u001b[0mprint\u001b[0m\u001b[0;34m(\u001b[0m\u001b[0;34mf\"\\nTotal Sum: PHP {total_sum(grocery)}\"\u001b[0m\u001b[0;34m)\u001b[0m\u001b[0;34m\u001b[0m\u001b[0;34m\u001b[0m\u001b[0m\n",
            "\u001b[0;32m/tmp/ipython-input-2696365853.py\u001b[0m in \u001b[0;36m<genexpr>\u001b[0;34m(.0)\u001b[0m\n\u001b[1;32m     21\u001b[0m \u001b[0;34m\u001b[0m\u001b[0m\n\u001b[1;32m     22\u001b[0m \u001b[0;32mdef\u001b[0m \u001b[0mtotal_sum\u001b[0m\u001b[0;34m(\u001b[0m\u001b[0mitems\u001b[0m\u001b[0;34m)\u001b[0m\u001b[0;34m:\u001b[0m\u001b[0;34m\u001b[0m\u001b[0;34m\u001b[0m\u001b[0m\n\u001b[0;32m---> 23\u001b[0;31m     \u001b[0;32mreturn\u001b[0m \u001b[0msum\u001b[0m\u001b[0;34m(\u001b[0m\u001b[0mi\u001b[0m\u001b[0;34m.\u001b[0m\u001b[0mcalculate_sum\u001b[0m\u001b[0;34m(\u001b[0m\u001b[0;34m)\u001b[0m \u001b[0;32mfor\u001b[0m \u001b[0mi\u001b[0m \u001b[0;32min\u001b[0m \u001b[0mitems\u001b[0m\u001b[0;34m)\u001b[0m\u001b[0;34m\u001b[0m\u001b[0;34m\u001b[0m\u001b[0m\n\u001b[0m\u001b[1;32m     24\u001b[0m \u001b[0;34m\u001b[0m\u001b[0m\n\u001b[1;32m     25\u001b[0m \u001b[0mprint\u001b[0m\u001b[0;34m(\u001b[0m\u001b[0;34mf\"\\nTotal Sum: PHP {total_sum(grocery)}\"\u001b[0m\u001b[0;34m)\u001b[0m\u001b[0;34m\u001b[0m\u001b[0;34m\u001b[0m\u001b[0m\n",
            "\u001b[0;31mAttributeError\u001b[0m: 'Fruit' object has no attribute 'calculate_sum'"
          ]
        }
      ]
    },
    {
      "cell_type": "code",
      "source": [],
      "metadata": {
        "id": "26y2mUAUnq0o"
      },
      "execution_count": null,
      "outputs": []
    },
    {
      "cell_type": "code",
      "metadata": {
        "id": "d745b293"
      },
      "source": [
        "GroceryList = [\n",
        "    Fruit(\"Apple\", 10, 7),\n",
        "    Fruit(\"Banana\", 10, 8),\n",
        "    Vegetable(\"Broccoli\", 60, 12),\n",
        "    Vegetable(\"Lettuce\", 50, 10)\n",
        "]"
      ],
      "execution_count": 25,
      "outputs": []
    }
  ]
}