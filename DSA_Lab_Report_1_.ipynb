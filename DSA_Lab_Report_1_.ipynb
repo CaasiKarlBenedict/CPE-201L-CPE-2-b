{
  "nbformat": 4,
  "nbformat_minor": 0,
  "metadata": {
    "colab": {
      "provenance": [],
      "authorship_tag": "ABX9TyOeInRvjTIVD7IXAGABVlTJ",
      "include_colab_link": true
    },
    "kernelspec": {
      "name": "python3",
      "display_name": "Python 3"
    },
    "language_info": {
      "name": "python"
    }
  },
  "cells": [
    {
      "cell_type": "markdown",
      "metadata": {
        "id": "view-in-github",
        "colab_type": "text"
      },
      "source": [
        "<a href=\"https://colab.research.google.com/github/CaasiKarlBenedict/CPE-201L-CPE-2-b/blob/main/DSA_Lab_Report_1_.ipynb\" target=\"_parent\"><img src=\"https://colab.research.google.com/assets/colab-badge.svg\" alt=\"Open In Colab\"/></a>"
      ]
    },
    {
      "cell_type": "code",
      "execution_count": 1,
      "metadata": {
        "id": "HYayJosKZpja"
      },
      "outputs": [],
      "source": [
        "from datetime import date, timedelta\n",
        "\n",
        "# Base Book class\n",
        "class Book:\n",
        "    def __init__(self, title, author):\n",
        "        self.title = title\n",
        "        self.author = author\n",
        "\n",
        "# FictionBook subclass\n",
        "class FictionBook(Book):\n",
        "    def __init__(self, title, author, genre):\n",
        "        super().__init__(title, author)\n",
        "        self.genre = genre\n",
        "\n",
        "# NonFictionBook subclass\n",
        "class NonFictionBook(Book):\n",
        "    def __init__(self, title, author, subject):\n",
        "        super().__init__(title, author)\n",
        "        self.subject = subject\n",
        "\n",
        "# Library class\n",
        "class Library:\n",
        "    def __init__(self):\n",
        "        self.all_books = []\n",
        "        self.fiction_books = []\n",
        "        self.nonfiction_books = []\n",
        "\n",
        "    def add_book(self, book):\n",
        "        self.all_books.append(book)\n",
        "        if isinstance(book, FictionBook):\n",
        "            self.fiction_books.append(book)\n",
        "        elif isinstance(book, NonFictionBook):\n",
        "            self.nonfiction_books.append(book)\n",
        "\n",
        "    def remove_book(self, book):\n",
        "        if book in self.all_books:\n",
        "            self.all_books.remove(book)\n",
        "        if isinstance(book, FictionBook) and book in self.fiction_books:\n",
        "            self.fiction_books.remove(book)\n",
        "        elif isinstance(book, NonFictionBook) and book in self.nonfiction_books:\n",
        "            self.nonfiction_books.remove(book)\n",
        "\n",
        "# Member class\n",
        "class Member:\n",
        "    def __init__(self, name):\n",
        "        self.name = name\n",
        "        self.borrowed_books = []\n",
        "\n",
        "    def borrow_book(self, library, book):\n",
        "        if book in library.all_books:\n",
        "            library.remove_book(book)\n",
        "            borrowing = Borrowing(book, self)\n",
        "            self.borrowed_books.append(borrowing)\n",
        "            print(f\"{self.name} borrowed '{book.title}'\")\n",
        "        else:\n",
        "            print(f\"'{book.title}' is not available in the library.\")\n",
        "\n",
        "# Borrowing class\n",
        "class Borrowing:\n",
        "    def __init__(self, book, member):\n",
        "        self.book = book\n",
        "        self.member = member\n",
        "        self.due_date = date.today() + timedelta(days=14)  # 2 weeks\n",
        "\n",
        "    def __str__(self):\n",
        "        return f\"{self.member.name} borrowed '{self.book.title}' due on {self.due_date}\"\n"
      ]
    }
  ]
}