{
  "nbformat": 4,
  "nbformat_minor": 0,
  "metadata": {
    "colab": {
      "provenance": [],
      "authorship_tag": "ABX9TyOP0J290fIlOgGX23TS3uoh",
      "include_colab_link": true
    },
    "kernelspec": {
      "name": "python3",
      "display_name": "Python 3"
    },
    "language_info": {
      "name": "python"
    }
  },
  "cells": [
    {
      "cell_type": "markdown",
      "metadata": {
        "id": "view-in-github",
        "colab_type": "text"
      },
      "source": [
        "<a href=\"https://colab.research.google.com/github/CaasiKarlBenedict/CPE-201L-CPE-2-b/blob/main/Activity_1.ipynb\" target=\"_parent\"><img src=\"https://colab.research.google.com/assets/colab-badge.svg\" alt=\"Open In Colab\"/></a>"
      ]
    },
    {
      "cell_type": "code",
      "execution_count": 1,
      "metadata": {
        "colab": {
          "base_uri": "https://localhost:8080/"
        },
        "id": "sVuwXNYxfMSR",
        "outputId": "718174e3-95dd-4303-c2e4-9876d8bb0e9a"
      },
      "outputs": [
        {
          "output_type": "stream",
          "name": "stdout",
          "text": [
            "113.03999999999999\n"
          ]
        }
      ],
      "source": [
        "r = 6\n",
        "area = 3.14 * r * r\n",
        "print(area)"
      ]
    },
    {
      "cell_type": "code",
      "source": [
        "diameter = 12\n",
        "r = diameter / 2\n",
        "area = 3.14 * r * r\n",
        "print(area)\n"
      ],
      "metadata": {
        "colab": {
          "base_uri": "https://localhost:8080/"
        },
        "id": "JZ-vAVZ4fSm2",
        "outputId": "27465306-f55a-4b74-b178-96a176d1df21"
      },
      "execution_count": 2,
      "outputs": [
        {
          "output_type": "stream",
          "name": "stdout",
          "text": [
            "113.03999999999999\n"
          ]
        }
      ]
    }
  ]
}